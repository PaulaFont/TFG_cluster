{
 "cells": [
  {
   "cell_type": "code",
   "execution_count": 43,
   "metadata": {},
   "outputs": [
    {
     "data": {
      "application/vnd.jupyter.widget-view+json": {
       "model_id": "22f40d9a6bd4453981a15af2f547d01b",
       "version_major": 2,
       "version_minor": 0
      },
      "text/plain": [
       "Dropdown(description='File:', layout=Layout(width='50%'), options=('rsc37_rsc176_1043_0', 'rsc37_rsc176_1043_1…"
      ]
     },
     "metadata": {},
     "output_type": "display_data"
    },
    {
     "data": {
      "application/vnd.jupyter.widget-view+json": {
       "model_id": "144bbf9df5eb4565a0465252fb5919b8",
       "version_major": 2,
       "version_minor": 0
      },
      "text/plain": [
       "Button(description='Show Files', style=ButtonStyle())"
      ]
     },
     "metadata": {},
     "output_type": "display_data"
    },
    {
     "data": {
      "application/vnd.jupyter.widget-view+json": {
       "model_id": "b71fd696e9464f34a7d711b64cc35eb0",
       "version_major": 2,
       "version_minor": 0
      },
      "text/plain": [
       "Output()"
      ]
     },
     "metadata": {},
     "output_type": "display_data"
    }
   ],
   "source": [
    "import os\n",
    "import ipywidgets as widgets\n",
    "from IPython.display import display, Image, HTML\n",
    "\n",
    "# Define paths\n",
    "input_folder = '/data/users/pfont/input'\n",
    "tesseract_folder = '/data/users/pfont/out_tesseract'\n",
    "llm_folder = '/data/users/pfont/out_llm'\n",
    "\n",
    "# Get list of available file names (without extensions)\n",
    "file_names = [f.split('.')[0] for f in os.listdir(input_folder) if f.endswith('.jpg')]\n",
    "file_names.sort()\n",
    "\n",
    "# Create a dropdown widget\n",
    "file_name_dropdown = widgets.Dropdown(\n",
    "    options=file_names,\n",
    "    description='File:',\n",
    "    layout=widgets.Layout(width='50%')\n",
    ")\n",
    "\n",
    "# Create an output widget\n",
    "output_display = widgets.Output()\n",
    "\n",
    "def display_files(file_name):\n",
    "    with output_display:\n",
    "        output_display.clear_output()\n",
    "        \n",
    "        image_path = os.path.join(input_folder, file_name + '.jpg')\n",
    "        tesseract_path = os.path.join(tesseract_folder, file_name + '.txt')\n",
    "        llm_path = os.path.join(llm_folder, file_name + '.txt')\n",
    "        \n",
    "        if not os.path.exists(image_path):\n",
    "            print(f\"Image not found: {image_path}\")\n",
    "            return\n",
    "        \n",
    "        if not os.path.exists(tesseract_path):\n",
    "            print(f\"Tesseract output not found: {tesseract_path}\")\n",
    "            return\n",
    "        \n",
    "        if not os.path.exists(llm_path):\n",
    "            print(f\"LLM output not found: {llm_path}\")\n",
    "            return\n",
    "        \n",
    "        with open(tesseract_path, 'r', encoding='utf-8') as f:\n",
    "            tesseract_text = f.read()\n",
    "        \n",
    "        with open(llm_path, 'r', encoding='utf-8') as f:\n",
    "            llm_text = f.read()\n",
    "        \n",
    "        display(HTML(f\"\"\"\n",
    "        <table style='width:100%; border-collapse: collapse;'>\n",
    "            <tr>\n",
    "                <th style='border: 1px solid black; padding: 10px;'>Image</th>\n",
    "                <th style='border: 1px solid black; padding: 10px;'>Tesseract Output</th>\n",
    "                <th style='border: 1px solid black; padding: 10px;'>LLM Output</th>\n",
    "            </tr>\n",
    "            <tr>\n",
    "                <td style='border: 1px solid black; padding: 10px; width: 33%;'>\n",
    "                    <img src='data:image/jpeg;base64,{convert_image_to_base64(image_path)}' style='width: 100%; height: auto;'>\n",
    "                </td>\n",
    "                <td style='border: 1px solid black; padding: 10px; width: 33%; max-width: 300px; overflow-wrap: break-word;'>\n",
    "                    <pre style='white-space: pre-wrap; font-size: 12px; line-height: 1.2em;'>{tesseract_text}</pre>\n",
    "                </td>\n",
    "                <td style='border: 1px solid black; padding: 10px; width: 33%; max-width: 300px; overflow-wrap: break-word;'>\n",
    "                    <pre style='white-space: pre-wrap; font-size: 12px; line-height: 1.2em;'>{llm_text}</pre>\n",
    "                </td>\n",
    "            </tr>\n",
    "        </table>\n",
    "        \"\"\"))\n",
    "\n",
    "def convert_image_to_base64(image_path):\n",
    "    import base64\n",
    "    with open(image_path, \"rb\") as image_file:\n",
    "        return base64.b64encode(image_file.read()).decode(\"utf-8\")\n",
    "\n",
    "# Create an interactive button\n",
    "button = widgets.Button(description=\"Show Files\")\n",
    "\n",
    "def on_button_click(b):\n",
    "    display_files(file_name_dropdown.value)\n",
    "    \n",
    "button.on_click(on_button_click)\n",
    "\n",
    "# Display widgets\n",
    "display(file_name_dropdown, button, output_display)\n",
    "\n"
   ]
  },
  {
   "cell_type": "code",
   "execution_count": null,
   "metadata": {},
   "outputs": [],
   "source": []
  }
 ],
 "metadata": {
  "kernelspec": {
   "display_name": "file_viewer",
   "language": "python",
   "name": "python3"
  },
  "language_info": {
   "codemirror_mode": {
    "name": "ipython",
    "version": 3
   },
   "file_extension": ".py",
   "mimetype": "text/x-python",
   "name": "python",
   "nbconvert_exporter": "python",
   "pygments_lexer": "ipython3",
   "version": "3.10.16"
  }
 },
 "nbformat": 4,
 "nbformat_minor": 2
}
